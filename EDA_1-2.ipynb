{
 "cells": [
  {
   "cell_type": "code",
   "execution_count": 69,
   "id": "1a99138f-5da7-49a5-8519-9c9a2b51bb12",
   "metadata": {},
   "outputs": [],
   "source": [
    "import re\n",
    "import os\n",
    "import pandas as pd\n",
    "import networkx as nx"
   ]
  },
  {
   "cell_type": "code",
   "execution_count": 51,
   "id": "ad4d8aad-ce37-46ef-8226-b468d0a17a08",
   "metadata": {},
   "outputs": [
    {
     "data": {
      "text/html": [
       "<div>\n",
       "<style scoped>\n",
       "    .dataframe tbody tr th:only-of-type {\n",
       "        vertical-align: middle;\n",
       "    }\n",
       "\n",
       "    .dataframe tbody tr th {\n",
       "        vertical-align: top;\n",
       "    }\n",
       "\n",
       "    .dataframe thead th {\n",
       "        text-align: right;\n",
       "    }\n",
       "</style>\n",
       "<table border=\"1\" class=\"dataframe\">\n",
       "  <thead>\n",
       "    <tr style=\"text-align: right;\">\n",
       "      <th></th>\n",
       "      <th>filename</th>\n",
       "      <th>diagram_code</th>\n",
       "      <th>diagram_type</th>\n",
       "    </tr>\n",
       "  </thead>\n",
       "  <tbody>\n",
       "    <tr>\n",
       "      <th>0</th>\n",
       "      <td>mermaid_diagram_65.txt</td>\n",
       "      <td>erDiagram\\n\\tSong {\\n\\t\\tint id PK\\n\\t\\tstring...</td>\n",
       "      <td>mermaid</td>\n",
       "    </tr>\n",
       "    <tr>\n",
       "      <th>1</th>\n",
       "      <td>mermaid_diagram_59.txt</td>\n",
       "      <td>erDiagram\\n    CUSTOMER ||--o{ ORDER : places\\...</td>\n",
       "      <td>mermaid</td>\n",
       "    </tr>\n",
       "    <tr>\n",
       "      <th>2</th>\n",
       "      <td>mermaid_diagram_4.txt</td>\n",
       "      <td>erDiagram\\n    USER_OAUTH_PROVIDERS {\\n       ...</td>\n",
       "      <td>mermaid</td>\n",
       "    </tr>\n",
       "    <tr>\n",
       "      <th>3</th>\n",
       "      <td>mermaid_diagram_4.txt</td>\n",
       "      <td>erDiagram\\n    PROFILES }|--|| USERS : user_id...</td>\n",
       "      <td>mermaid</td>\n",
       "    </tr>\n",
       "    <tr>\n",
       "      <th>4</th>\n",
       "      <td>mermaid_diagram_5.txt</td>\n",
       "      <td>erDiagram\\n    users ||--o{ messages : \"writes...</td>\n",
       "      <td>mermaid</td>\n",
       "    </tr>\n",
       "  </tbody>\n",
       "</table>\n",
       "</div>"
      ],
      "text/plain": [
       "                 filename                                       diagram_code  \\\n",
       "0  mermaid_diagram_65.txt  erDiagram\\n\\tSong {\\n\\t\\tint id PK\\n\\t\\tstring...   \n",
       "1  mermaid_diagram_59.txt  erDiagram\\n    CUSTOMER ||--o{ ORDER : places\\...   \n",
       "2   mermaid_diagram_4.txt  erDiagram\\n    USER_OAUTH_PROVIDERS {\\n       ...   \n",
       "3   mermaid_diagram_4.txt  erDiagram\\n    PROFILES }|--|| USERS : user_id...   \n",
       "4   mermaid_diagram_5.txt  erDiagram\\n    users ||--o{ messages : \"writes...   \n",
       "\n",
       "  diagram_type  \n",
       "0      mermaid  \n",
       "1      mermaid  \n",
       "2      mermaid  \n",
       "3      mermaid  \n",
       "4      mermaid  "
      ]
     },
     "execution_count": 51,
     "metadata": {},
     "output_type": "execute_result"
    }
   ],
   "source": [
    "# Extract code blocks from mermaid diagram files\n",
    "def extract_mermaid_blocks(file_path):\n",
    "    with open(file_path, 'r', encoding='utf-8') as f:\n",
    "        text = f.read()\n",
    "    matches = re.findall(r\"```mermaid\\s+(.*?)```\", text, re.DOTALL)\n",
    "    return matches\n",
    "\n",
    "# Extract code blocks from plantUML diagram files\n",
    "def extract_plantuml_blocks(file_path):\n",
    "    with open(file_path, 'r', encoding='utf-8') as f:\n",
    "        text = f.read()\n",
    "    matches = re.findall(r\"@startuml\\s+(.*?)@enduml\", text, re.DOTALL)\n",
    "    return matches\n",
    "\n",
    "diagrams = []\n",
    "mermaid_path = 'gh_mermaid_data_models'\n",
    "plantuml_path = 'gh_plantuml_data_models'\n",
    "\n",
    "# Process mermaid files\n",
    "for filename in os.listdir(mermaid_path):\n",
    "    if filename.endswith('.txt'):\n",
    "        file_path = os.path.join(mermaid_path, filename)\n",
    "        blocks = extract_mermaid_blocks(file_path)\n",
    "        for block in blocks:\n",
    "            diagrams.append({\n",
    "                'filename': f\"mermaid_{filename}\",\n",
    "                'diagram_code': block,\n",
    "                'diagram_type': 'mermaid'\n",
    "            })\n",
    "\n",
    "# Process plantUML files\n",
    "for filename in os.listdir(plantuml_path):\n",
    "    if filename.endswith('.txt'):\n",
    "        file_path = os.path.join(plantuml_path, filename)\n",
    "        blocks = extract_plantuml_blocks(file_path)\n",
    "        for block in blocks:\n",
    "            diagrams.append({\n",
    "                'filename': f\"plantuml_{filename}\",\n",
    "                'diagram_code': block,\n",
    "                'diagram_type': 'plantuml'\n",
    "            })\n",
    "\n",
    "\n",
    "df = pd.DataFrame(diagrams)\n",
    "df.head()"
   ]
  },
  {
   "cell_type": "code",
   "execution_count": 44,
   "id": "38eba40c-2c81-4f75-b252-f45800944072",
   "metadata": {
    "scrolled": true
   },
   "outputs": [
    {
     "data": {
      "text/plain": [
       "diagram_type\n",
       "plantuml    216\n",
       "mermaid     148\n",
       "Name: count, dtype: int64"
      ]
     },
     "execution_count": 44,
     "metadata": {},
     "output_type": "execute_result"
    }
   ],
   "source": [
    "# Count of each diagram type\n",
    "df['diagram_type'].value_counts()"
   ]
  },
  {
   "cell_type": "code",
   "execution_count": 57,
   "id": "2dd02496-f4d2-4a2d-b6cf-9e36f31daa77",
   "metadata": {},
   "outputs": [
    {
     "data": {
      "text/plain": [
       "filename\n",
       "plantuml_diagram_74.txt    21\n",
       "plantuml_diagram_87.txt    14\n",
       "mermaid_diagram_51.txt     13\n",
       "plantuml_diagram_5.txt     13\n",
       "plantuml_diagram_91.txt    11\n",
       "mermaid_diagram_2.txt      10\n",
       "mermaid_diagram_1.txt      10\n",
       "mermaid_diagram_30.txt      9\n",
       "plantuml_diagram_13.txt     9\n",
       "plantuml_diagram_36.txt     8\n",
       "mermaid_diagram_46.txt      7\n",
       "mermaid_diagram_64.txt      7\n",
       "plantuml_diagram_24.txt     7\n",
       "plantuml_diagram_1.txt      7\n",
       "mermaid_diagram_96.txt      6\n",
       "plantuml_diagram_16.txt     5\n",
       "mermaid_diagram_69.txt      5\n",
       "plantuml_diagram_89.txt     5\n",
       "plantuml_diagram_80.txt     5\n",
       "plantuml_diagram_29.txt     5\n",
       "Name: count, dtype: int64"
      ]
     },
     "execution_count": 57,
     "metadata": {},
     "output_type": "execute_result"
    }
   ],
   "source": [
    "# Count of diagrams per file\n",
    "df['filename'].value_counts().head(20)"
   ]
  },
  {
   "cell_type": "code",
   "execution_count": 67,
   "id": "368b1ae6-6519-4f6e-85da-cebceeeb800d",
   "metadata": {},
   "outputs": [
    {
     "data": {
      "text/plain": [
       "start_line\n",
       "erDiagram          83\n",
       "!theme spacelab    21\n",
       "---                12\n",
       "!theme plain       11\n",
       "sequenceDiagram     9\n",
       "classDiagram        6\n",
       "graph TD            6\n",
       "graph LR            6\n",
       "scale 720 width     5\n",
       "actor User          5\n",
       "Name: count, dtype: int64"
      ]
     },
     "execution_count": 67,
     "metadata": {},
     "output_type": "execute_result"
    }
   ],
   "source": [
    "# Most common start line\n",
    "df['start_line'] = df['diagram_code'].str.split('\\n').str[0]\n",
    "df['start_line'].value_counts().head(10)"
   ]
  },
  {
   "cell_type": "code",
   "execution_count": 65,
   "id": "75347d86-05e5-4134-bcc0-00ccfddc523c",
   "metadata": {},
   "outputs": [
    {
     "data": {
      "text/plain": [
       "diagram_type\n",
       "mermaid     37.783784\n",
       "plantuml    30.861111\n",
       "Name: line_count, dtype: float64"
      ]
     },
     "execution_count": 65,
     "metadata": {},
     "output_type": "execute_result"
    }
   ],
   "source": [
    "# Average diagram length by type\n",
    "# Which type of diagram is typically more complex\n",
    "df['char_count'] = df['diagram_code'].str.len()\n",
    "df['line_count'] = df['diagram_code'].str.count('\\n') + 1\n",
    "\n",
    "df.groupby('diagram_type')['line_count'].mean()"
   ]
  },
  {
   "cell_type": "code",
   "execution_count": 79,
   "id": "6f91ca8e-ad90-466c-a24a-b23a77a4de7f",
   "metadata": {},
   "outputs": [],
   "source": [
    "# Extract edges ***** Need to edit *****\n",
    "def extract_edges(code, diagram_type):\n",
    "    if diagram_type == 'mermaid':\n",
    "        return re.findall(r'(\\w+)\\s*||--o\\s*(\\w+)', code) \n",
    "    elif diagram_type == 'plantuml':\n",
    "        return re.findall(r'(\\w+)\\s*[-<]+[->]+\\s*(\\w+)', code)\n",
    "    else:\n",
    "        return []\n",
    "\n",
    "# Build graph\n",
    "def build_graph(code, diagram_type):\n",
    "    edges = extract_edges(code, diagram_type)\n",
    "    G = nx.DiGraph()\n",
    "    G.add_edges_from(edges)\n",
    "    return G\n",
    "\n",
    "# Store each graph in a new column\n",
    "df['graph'] = df.apply(lambda row: build_graph(row['diagram_code'], row['diagram_type']), axis=1)"
   ]
  }
 ],
 "metadata": {
  "kernelspec": {
   "display_name": "Python (venv)",
   "language": "python",
   "name": "venv"
  },
  "language_info": {
   "codemirror_mode": {
    "name": "ipython",
    "version": 3
   },
   "file_extension": ".py",
   "mimetype": "text/x-python",
   "name": "python",
   "nbconvert_exporter": "python",
   "pygments_lexer": "ipython3",
   "version": "3.11.6"
  }
 },
 "nbformat": 4,
 "nbformat_minor": 5
}
